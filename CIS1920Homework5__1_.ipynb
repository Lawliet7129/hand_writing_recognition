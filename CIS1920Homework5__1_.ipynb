{
  "cells": [
    {
      "cell_type": "markdown",
      "metadata": {
        "id": "P-3aDu3ST-uW"
      },
      "source": [
        "# CIS 1902 Homework 5: Deep Learning\n",
        "\n",
        "Welcome to Homework 5! This homework will be focused on deep learning. In this homework, you will be using a variety of tools and libraries that you have learned in lecture to build deep learning models, that actually solve real-world problems. Deep learning has tons of applications, ranging from voice recognition to image recognition to natural language processing.\n"
      ]
    },
    {
      "cell_type": "markdown",
      "metadata": {
        "id": "s1nJ51TvT-uf"
      },
      "source": [
        "The foundation of deep learning is the neural network and the convolutional neural network (CNN). The neural network is a series of layers that are connected to one another, which borrows from the structure of the human brain. The CNN is a type of neural network that is particularly good at image recognition, and at a high-level is a parametric model with usually a huge number of parameters.\n",
        "\n",
        "While the neural network model is comprehensible to us, it introduces a new set of terminologies. Utilizing this model, we'll establish its architecture, including input, hidden, and output layers, and apply it to various real-world problems.\n",
        "\n",
        "Given that deep learning's primary successes lie in image recognition, language processing, and similar fields, we'll also delve into Convolutional Neural Networks (CNNs), specialized for image processing. We'll compare its performance to traditional neural networks.\n"
      ]
    },
    {
      "cell_type": "markdown",
      "metadata": {
        "id": "-3WX7LHlT-uf"
      },
      "source": [
        "## Part 1: Importing Libraries\n",
        "\n",
        "Let's start by importing the libraries that we will be using in this homework.\n"
      ]
    },
    {
      "cell_type": "code",
      "execution_count": null,
      "metadata": {
        "id": "rn1SR3xkT-uf"
      },
      "outputs": [],
      "source": [
        "import pandas as pd\n",
        "import numpy as np\n",
        "import matplotlib.pyplot as plt\n",
        "import seaborn as sns\n",
        "from matplotlib import cm\n",
        "from sklearn.model_selection import train_test_split\n",
        "import torch\n",
        "import torchvision\n",
        "from torchvision import transforms, utils\n",
        "import torch.nn as nn\n",
        "import torch.optim as optim\n",
        "import torchvision.transforms as transforms\n",
        "import torch\n",
        "from torchvision import datasets, transforms\n",
        "from torch.utils.data import Subset\n",
        "from collections import Counter\n",
        "from PIL import Image\n",
        "from skimage import io, transform\n",
        "import os\n",
        "from torchvision.io import read_image\n",
        "from torch.utils.data import Dataset, DataLoader\n",
        "from collections import Counter\n",
        "import math"
      ]
    },
    {
      "cell_type": "markdown",
      "metadata": {
        "id": "02CyJy5HT-ug"
      },
      "source": [
        "Next, let's setup GPU capabilities for our notebook. The cell below sets up a CUDA device to use with torch, if it is available. If you are using Google Colab, you can enable GPU acceleration by going to `Runtime` -> `Change runtime type` and selecting `GPU` as the hardware accelerator.\n",
        "\n",
        "Note that you can create a PyTorch tensor T that resides on the GPU using the command T = torch.Tensor(..., device=cuda). You can also copy existing tensors to the GPU using the to method, e.g. T.to(device) (make sure to overwrite T with the result of the function call). If you do not have a GPU, these commands will not work and you will need to use the CPU.\n"
      ]
    },
    {
      "cell_type": "code",
      "execution_count": null,
      "metadata": {
        "colab": {
          "base_uri": "https://localhost:8080/"
        },
        "id": "nQ6XzWpvT-ug",
        "outputId": "3323d13a-da20-43b0-8130-cb977b08790f"
      },
      "outputs": [
        {
          "output_type": "stream",
          "name": "stdout",
          "text": [
            "2.2.1+cu121\n",
            "cuda:0\n"
          ]
        }
      ],
      "source": [
        "torch.manual_seed(42)  # For grading consistency\n",
        "device = torch.device(\"cuda:0\" if torch.cuda.is_available() else \"cpu\")\n",
        "print(torch.__version__)\n",
        "print(device)"
      ]
    },
    {
      "cell_type": "code",
      "execution_count": null,
      "metadata": {
        "colab": {
          "base_uri": "https://localhost:8080/"
        },
        "id": "C2O_4kpuT-ug",
        "outputId": "3baf7581-377b-4845-d0ff-2f5b33df1009"
      },
      "outputs": [
        {
          "output_type": "execute_result",
          "data": {
            "text/plain": [
              "device(type='cuda', index=0)"
            ]
          },
          "metadata": {},
          "execution_count": 16
        }
      ],
      "source": [
        "device"
      ]
    },
    {
      "cell_type": "code",
      "execution_count": null,
      "metadata": {
        "colab": {
          "base_uri": "https://localhost:8080/"
        },
        "id": "MD71uNCDT-ug",
        "outputId": "a1f0dab4-e2f3-4b80-86e6-e73d195752a5"
      },
      "outputs": [
        {
          "output_type": "stream",
          "name": "stdout",
          "text": [
            "Test Case 1 Passed\n"
          ]
        }
      ],
      "source": [
        "# Test Case #1\n",
        "# check that device is set to cuda if available\n",
        "if torch.cuda.is_available():\n",
        "    if str(device) == \"cuda:0\":\n",
        "        print(\"Test Case 1 Passed\")\n",
        "    else:\n",
        "        print(\"Test Case 1 Failed\")\n",
        "else:\n",
        "    print(\"Test Case 1 Passed\")"
      ]
    },
    {
      "cell_type": "markdown",
      "metadata": {
        "id": "bZrXW-mAT-ug"
      },
      "source": [
        "The real-world problem we will be solving in this homework is the classification of images, or more specifically, the classification of handwritten digits. We will be using the MNIST dataset, which is a dataset of 28x28 grayscale images of handwritten digits (0-9). The dataset contains 60,000 training images and 10,000 testing images. The goal is to build a model that can accurately classify these images into their respective digits.\n",
        "\n",
        "We will be using the dataset to train 3 models and compare their performance on the test set. The models we will be using are:\n",
        "\n",
        "1. Logistic Regression\n",
        "2. Neural Network\n",
        "3. Convolutional Neural Network\n"
      ]
    },
    {
      "cell_type": "markdown",
      "metadata": {
        "id": "lT5EqeICT-ug"
      },
      "source": [
        "<div>\n",
        "<img src=\"https://s2.loli.net/2023/03/26/GwFJhNeskzE5Ptx.webp\", width=\"800\"/>\n",
        "</div>\n"
      ]
    },
    {
      "cell_type": "markdown",
      "metadata": {
        "id": "FPicXP5YT-ug"
      },
      "source": [
        "## Part 2: Data Preprocessing (PyTorch Dataset and DataLoader)\n",
        "\n",
        "To ensure consistency in data loading across various models, PyTorch offers two essential components: `torch.utils.data.DataLoader` and `torch.utils.data.Dataset`. These primitives facilitate the utilization of pre-loaded datasets and custom data.\n",
        "\n",
        "The `Dataset` module manages samples along with their respective labels, while `DataLoader` encapsulates an iterable structure around the `Dataset`, simplifying sample access. Additional details and practical examples of these components can be explored in the PyTorch documentation.\n",
        "\n",
        "While PyTorch furnishes `Dataset` and `DataLoader` for several popular datasets, custom `Dataset` creation might be necessary for specific data processing requirements. PyTorch also provides a catalog of built-in datasets, which can be accessed through the official documentation.\n",
        "\n",
        "The `Dataset` class encompasses three key components:\n",
        "\n",
        "- `__init__`: This method is responsible for setting up the parameters used within the class, such as transforms, which corresponds to the applied transformations.\n",
        "- `__len__`: Its purpose is to ensure that `len(dataset)` returns the dataset's size.\n",
        "- `__getitem__`: This function supports indexing, allowing `dataset[i]` to retrieve the i-th sample (in the case of images, this would typically be an image-label pair).\n",
        "\n",
        "Custom `Dataset` creation involves overriding the aforementioned functions.\n",
        "\n",
        "Documentation on creating custom datasets can be accessed here.\n",
        "\n",
        "Fortunately, for classic image datasets like MNIST, the need for creating custom `Dataset` and `DataLoader` objects is eliminated, as PyTorch includes them by default upon import.\n"
      ]
    },
    {
      "cell_type": "markdown",
      "metadata": {
        "id": "qf01BgCFT-ug"
      },
      "source": [
        "**TODO**: Implement the following sequence of transformations using `transforms.Compose`, and assign the resulting transformation pipeline to the variable `transform`:\n",
        "\n",
        "1.  **Resize**: Adjust the dimensions of each image in the dataset to 28x28 pixels, ensuring a consistent size across all images.\n",
        "2.  **ToTensor**: Convert the images into PyTorch tensors, facilitating their use within the framework.\n",
        "3.  **RandomRotation**: Apply a random rotation to each image within a range of -45° to 45°, introducing variability to the dataset.\n",
        "4.  **RandomPerspective**: Introduce a random perspective transformation with a distortion scale of 0.3 to approximately half of the images (50% probability).\n",
        "5.  **Normalize**: Standardize the tensor images using a mean of 0.1307 and a standard deviation of 0.3081, adjusting pixel values for more effective model training.\n",
        "\n",
        "---\n",
        "\n",
        "**NOTE**: For a comprehensive understanding of how each transformation works and to see examples in action, it is strongly advised to consult the [PyTorch documentation on transformations](https://pytorch.org/vision/stable/transforms.html) and explore [visual illustrations of transformations](https://pytorch.org/vision/main/auto_examples/transforms/plot_transforms_illustrations.html) provided by PyTorch.\n"
      ]
    },
    {
      "cell_type": "code",
      "execution_count": null,
      "metadata": {
        "id": "VMWIyIRUT-ug"
      },
      "outputs": [],
      "source": [
        "# TODO: Define the transform\n",
        "\n",
        "transform = transforms.Compose([\n",
        "    transforms.Resize((28, 28)),\n",
        "    transforms.ToTensor(),\n",
        "    transforms.RandomRotation(degrees=45),\n",
        "    transforms.RandomPerspective(distortion_scale=0.3, p=0.5),\n",
        "    transforms.Normalize((0.1307,), (0.3081,))\n",
        "])"
      ]
    },
    {
      "cell_type": "markdown",
      "metadata": {
        "id": "pCgyL5LST-uh"
      },
      "source": [
        "Now that we have defined the transforms we are going to apply to the dataset, let's instantiate `Dataset` objects for both the training and testing sets using predefined PyTorch Datasets. You can refer to the documentation [here](https://pytorch.org/vision/stable/generated/torchvision.datasets.MNIST.html).\n",
        "\n",
        "Considering the whole dataset is quite large for running the model efficiently, we will also downsample by reducing the size of the dataset by half.\n",
        "\n",
        "---\n",
        "\n",
        "**TODO**:\n",
        "\n",
        "- Initiate the `Dataset` object for the training set as `train_dataset`.\n",
        "- Downsample the training dataset by getting the data at even-numbered indices, specified as `train_subset`.\n",
        "- Initiate the `Dataset` object for the testing set as `test_dataset`.\n",
        "- Downsample the testing dataset by getting the data at even-numbered indices, specified as `test_subset`.\n",
        "\n",
        "---\n",
        "\n",
        "**Hint**: Check out [`torch.utils.data.Subset`](https://pytorch.org/docs/stable/data.html#torch.utils.data.Subset) for downsampling the dataset.\n",
        "\n",
        "**Note**: When initiating the `Dataset` object for both the training and testing sets, in addition to other arguments, please set these arguments as follows:\n",
        "\n",
        "- `root = './data'`\n",
        "- `download = True`\n"
      ]
    },
    {
      "cell_type": "code",
      "execution_count": null,
      "metadata": {
        "colab": {
          "base_uri": "https://localhost:8080/"
        },
        "id": "IWuIF9DbT-uh",
        "outputId": "0a896b5d-f4a2-4bc5-d7b3-e1e8cfa6b610"
      },
      "outputs": [
        {
          "output_type": "stream",
          "name": "stdout",
          "text": [
            "Downloading http://yann.lecun.com/exdb/mnist/train-images-idx3-ubyte.gz\n",
            "Downloading http://yann.lecun.com/exdb/mnist/train-images-idx3-ubyte.gz to ./data/MNIST/raw/train-images-idx3-ubyte.gz\n"
          ]
        },
        {
          "output_type": "stream",
          "name": "stderr",
          "text": [
            "100%|██████████| 9912422/9912422 [00:00<00:00, 133825099.28it/s]"
          ]
        },
        {
          "output_type": "stream",
          "name": "stdout",
          "text": [
            "Extracting ./data/MNIST/raw/train-images-idx3-ubyte.gz to ./data/MNIST/raw\n"
          ]
        },
        {
          "output_type": "stream",
          "name": "stderr",
          "text": [
            "\n"
          ]
        },
        {
          "output_type": "stream",
          "name": "stdout",
          "text": [
            "\n",
            "Downloading http://yann.lecun.com/exdb/mnist/train-labels-idx1-ubyte.gz\n",
            "Downloading http://yann.lecun.com/exdb/mnist/train-labels-idx1-ubyte.gz to ./data/MNIST/raw/train-labels-idx1-ubyte.gz\n"
          ]
        },
        {
          "output_type": "stream",
          "name": "stderr",
          "text": [
            "100%|██████████| 28881/28881 [00:00<00:00, 41188607.22it/s]\n"
          ]
        },
        {
          "output_type": "stream",
          "name": "stdout",
          "text": [
            "Extracting ./data/MNIST/raw/train-labels-idx1-ubyte.gz to ./data/MNIST/raw\n",
            "\n",
            "Downloading http://yann.lecun.com/exdb/mnist/t10k-images-idx3-ubyte.gz\n",
            "Downloading http://yann.lecun.com/exdb/mnist/t10k-images-idx3-ubyte.gz to ./data/MNIST/raw/t10k-images-idx3-ubyte.gz\n"
          ]
        },
        {
          "output_type": "stream",
          "name": "stderr",
          "text": [
            "100%|██████████| 1648877/1648877 [00:00<00:00, 45221411.83it/s]\n"
          ]
        },
        {
          "output_type": "stream",
          "name": "stdout",
          "text": [
            "Extracting ./data/MNIST/raw/t10k-images-idx3-ubyte.gz to ./data/MNIST/raw\n",
            "\n",
            "Downloading http://yann.lecun.com/exdb/mnist/t10k-labels-idx1-ubyte.gz\n",
            "Downloading http://yann.lecun.com/exdb/mnist/t10k-labels-idx1-ubyte.gz to ./data/MNIST/raw/t10k-labels-idx1-ubyte.gz\n"
          ]
        },
        {
          "output_type": "stream",
          "name": "stderr",
          "text": [
            "100%|██████████| 4542/4542 [00:00<00:00, 23007884.99it/s]\n"
          ]
        },
        {
          "output_type": "stream",
          "name": "stdout",
          "text": [
            "Extracting ./data/MNIST/raw/t10k-labels-idx1-ubyte.gz to ./data/MNIST/raw\n",
            "\n"
          ]
        }
      ],
      "source": [
        "root = './data'\n",
        "\n",
        "\n",
        "# TODO: Initiate the Dataset object for the training set as train_dataset\n",
        "train_dataset = datasets.MNIST(root=root, train=True, transform=transform, download=True)\n",
        "\n",
        "# TODO: Downsample training by getting the train data at even-numbered indices, specified as train_subset\n",
        "train_subset = Subset(train_dataset, indices=range(0, len(train_dataset), 2))\n",
        "\n",
        "# TODO: Initiate the dataset object for the test set as test_dataset\n",
        "test_dataset = datasets.MNIST(root=root, train=False, transform=transform, download=True)\n",
        "\n",
        "# TODO: Downsample test by getting the test data at even-numbered indices, specified as test_subset\n",
        "test_subset = Subset(test_dataset, indices=range(0, len(test_dataset), 2))"
      ]
    },
    {
      "cell_type": "markdown",
      "metadata": {
        "id": "slc5dE3ST-uh"
      },
      "source": [
        "With `trainDataset` and `testDataset` prepared, it's time to set up dataloaders for both datasets.\n",
        "\n",
        "Utilize the `DataLoader` class to encapsulate the datasets into dataloaders. For more detailed instructions, consult the [DataLoader documentation](https://pytorch.org/docs/stable/data.html#torch.utils.data.DataLoader).\n",
        "\n",
        "---\n",
        "\n",
        "**TODO**:\n",
        "\n",
        "- Create a `DataLoader` instance for `train_subset` named `train_loader`.\n",
        "- Create a `DataLoader` instance for `test_subset` named `test_loader`.\n",
        "\n",
        "---\n",
        "\n",
        "**NOTE**: When initializing the `DataLoader` instances, ensure to configure the `batch_size` to match the value of the `batch` variable previously established. Also, enable `shuffle` by setting it to `True` and set `num_workers` to 0.\n"
      ]
    },
    {
      "cell_type": "code",
      "execution_count": null,
      "metadata": {
        "id": "pMWm1P4tT-uh"
      },
      "outputs": [],
      "source": [
        "batch = 64\n",
        "\n",
        "# TODO: Initiate the DataLoader object for the training set as train_loader\n",
        "train_loader = DataLoader(train_subset, batch_size=batch, shuffle=True, num_workers=0)\n",
        "\n",
        "# TODO: Initiate the DataLoader object for the test set as test_loader\n",
        "test_loader =DataLoader(test_subset, batch_size=batch, shuffle=True, num_workers=0)"
      ]
    },
    {
      "cell_type": "markdown",
      "metadata": {
        "id": "UbL--cfET-uh"
      },
      "source": [
        "## Part 3: Data Summary and Visualization\n",
        "\n",
        "Now that we have our dataset, let's take some time to understand the data we are working with. We will visualize some of the images in the dataset and understand the distribution of the labels in the dataset.\n",
        "\n",
        "**TODO**\n",
        "\n",
        "- **Train**\n",
        "\n",
        "  - Determine the count of distinct labels present in the training dataset and assign this value to `train_num_labels`.\n",
        "  - Instantiate a `DataLoader` named `train_loader_bar_plot` using `train_subset`, configured with:\n",
        "    - `batch_size` set to the total number of items in `train_subset`\n",
        "    - `shuffle` enabled (`True`)\n",
        "    - `num_workers` set to 0\n",
        "  - Construct a dictionary named `train_subset_dict` where each key represents a label, and the corresponding value is the count of images under that label.\n",
        "\n",
        "- **Test**\n",
        "\n",
        "  - Identify the total number of unique labels in the testing dataset and store this figure in `test_num_labels`.\n",
        "  - Establish a `DataLoader` named `test_loader_bar_plot` for `test_subset`, with the settings:\n",
        "    - `batch_size` equal to the size of `test_subset`\n",
        "    - `shuffle` activated (`True`)\n",
        "    - `num_workers` as 0\n",
        "  - Create a dictionary `test_subset_dict` mapping each label to the quantity of images associated with that label.\n"
      ]
    },
    {
      "cell_type": "code",
      "execution_count": null,
      "metadata": {
        "id": "ijg3-2HcT-uh"
      },
      "outputs": [],
      "source": [
        "train_num_labels = len(train_dataset.classes)\n",
        "\n",
        "test_num_labels = len(test_dataset.classes)\n",
        "\n",
        "train_loader_bar_plot =  DataLoader(train_subset, batch_size=len(train_subset), shuffle=True, num_workers=0)\n",
        "\n",
        "test_loader_bar_plot = DataLoader(test_subset, batch_size=len(test_subset), shuffle=True, num_workers=0)\n",
        "\n",
        "train_subset_dict = {label: 0 for label in train_dataset.classes}\n",
        "for images, labels in train_loader_bar_plot:\n",
        "    for label in labels:\n",
        "        train_subset_dict[train_dataset.classes[label]] += 1\n",
        "\n",
        "test_subset_dict =  {label: 0 for label in test_dataset.classes}\n",
        "for images, labels in test_loader_bar_plot:\n",
        "    for label in labels:\n",
        "        test_subset_dict[test_dataset.classes[label]] += 1"
      ]
    },
    {
      "cell_type": "markdown",
      "metadata": {
        "id": "4X0BWFz9T-uh"
      },
      "source": [
        "Now we are going to use the matplotlib skills we worked on in the last homework, to visualize the data.\n",
        "\n",
        "**TODO:**\n",
        "\n",
        "- Construct a bar plot to visualize the frequency distribution of labels in the training dataset. Use `train_subset_dict` for data, set the x-axis label to `Labels`, the y-axis label to `Frequency`, and the plot title to `Distribution of Training Set Labels`.\n",
        "- Similarly, generate a bar plot for the label frequency distribution in the testing dataset using `test_subset_dict`. Label the x-axis as `Labels`, the y-axis as `Frequency`, and title the plot `Distribution of Testing Set Labels`.\n",
        "- Ensure each bar displays its label count above it (for example, a bar representing label 1 with 1200 instances should have \"1200\" displayed above).\n",
        "- To keep the file size manageable for submission, adjust the figure size to (8,6).\n",
        "\n",
        "---\n",
        "\n",
        "**NOTE:**\n",
        "\n",
        "- The y-axis represents the total number of instances per label.\n",
        "- The x-axis should denote the numerical value of the labels found in the MNIST dataset.\n"
      ]
    },
    {
      "cell_type": "code",
      "execution_count": null,
      "metadata": {
        "id": "PfIR9-9vT-uh"
      },
      "outputs": [],
      "source": [
        "# Train Subset Bar Plot"
      ]
    },
    {
      "cell_type": "code",
      "source": [],
      "metadata": {
        "id": "nqW9x0-QYC9l"
      },
      "execution_count": null,
      "outputs": []
    },
    {
      "cell_type": "code",
      "execution_count": null,
      "metadata": {
        "id": "ezGaf5CZT-uh"
      },
      "outputs": [],
      "source": [
        "# Test Subset Bar Plot"
      ]
    },
    {
      "cell_type": "code",
      "source": [
        "def add_labels(ax):\n",
        "    for rect in ax.patches:\n",
        "        height = rect.get_height()\n",
        "        ax.annotate('{}'.format(height),\n",
        "                    xy=(rect.get_x() + rect.get_width() / 2, height),\n",
        "                    xytext=(0, 3),\n",
        "                    textcoords=\"offset points\",\n",
        "                    ha='center', va='bottom')\n",
        "\n",
        "plt.figure(figsize=(8, 6))\n",
        "ax1 = plt.subplot(2, 1, 1)\n",
        "ax1.bar(train_subset_dict.keys(), train_subset_dict.values())\n",
        "ax1.set_title('Distribution of Training Set Labels')\n",
        "ax1.set_xlabel('Labels')\n",
        "ax1.set_ylabel('Frequency')\n",
        "add_labels(ax1)\n",
        "\n",
        "ax2 = plt.subplot(2, 1, 2)\n",
        "ax2.bar(test_subset_dict.keys(), test_subset_dict.values())\n",
        "ax2.set_title('Distribution of Testing Set Labels')\n",
        "ax2.set_xlabel('Labels')\n",
        "ax2.set_ylabel('Frequency')\n",
        "add_labels(ax2)\n",
        "\n",
        "plt.tight_layout()\n",
        "plt.show()"
      ],
      "metadata": {
        "colab": {
          "base_uri": "https://localhost:8080/",
          "height": 486
        },
        "id": "4BNd8NHdYM6W",
        "outputId": "2f0c80ef-e307-4ac9-8ca5-c67700abeb99"
      },
      "execution_count": null,
      "outputs": [
        {
          "output_type": "display_data",
          "data": {
            "text/plain": [
              "<Figure size 800x600 with 2 Axes>"
            ],
            "image/png": "[encoded data removed]"
          },
          "metadata": {}
        }
      ]
    },
    {
      "cell_type": "markdown",
      "metadata": {
        "id": "J8LZG4fVT-uh"
      },
      "source": [
        "Now, let's visualize some of the images in the dataset. Take some arbitrary indices, and print out 6 of the images in the training set.\n",
        "\n",
        "**TODO**\n",
        "\n",
        "- Iterate over `train_dataset` using a list of arbitrary indices (length: 6) with a for-loop.\n",
        "- Within each iteration of this loop:\n",
        "  - Display the image at the current index from `train_dataset` as a grayscale image. Use a 2 by 3 subplot arrangement for plotting, leveraging matplotlib.\n",
        "  - Use `plt.title` to label each subplot with the corresponding image label from the dataset.\n",
        "  - Ensure that grid lines and axis labels are not visible in the plots.\n",
        "- To keep the file size suitable for submission, set the total figure size to (8,4). Note that this size refers to the overall figure, not to individual subplots.\n"
      ]
    },
    {
      "cell_type": "code",
      "execution_count": null,
      "metadata": {
        "colab": {
          "base_uri": "https://localhost:8080/",
          "height": 383
        },
        "id": "o9UmN564T-uh",
        "outputId": "8796435e-b01a-469d-a04e-382a8dd1a696"
      },
      "outputs": [
        {
          "output_type": "display_data",
          "data": {
            "text/plain": [
              "<Figure size 800x400 with 6 Axes>"
            ],
            "image/png": "[encoded data removed]"
          },
          "metadata": {}
        }
      ],
      "source": [
        "# TODO: Visualize 6 arbitrary images from the train_subset dataset\n",
        "arbitrary_indices = [100, 500, 1000, 2000, 3000, 4000]\n",
        "plt.figure(figsize=(8, 4))\n",
        "\n",
        "for i, index in enumerate(arbitrary_indices):\n",
        "    plt.subplot(2, 3, i + 1)\n",
        "    plt.imshow(train_dataset[index][0].squeeze(), cmap='gray')\n",
        "    plt.title('Label: {}'.format(train_dataset[index][1]))\n",
        "    plt.axis('off')\n",
        "    plt.grid(False)\n",
        "\n",
        "plt.tight_layout()\n",
        "plt.show()"
      ]
    },
    {
      "cell_type": "markdown",
      "metadata": {
        "id": "_OgDiVbJT-uh"
      },
      "source": [
        "## Part 4: Logistic Regression\n",
        "\n",
        "We will first start by building a logistic regression model to classify the images. We have seen Logistic Regression before, but this time we will use PyTorch to build the model.\n"
      ]
    },
    {
      "cell_type": "code",
      "execution_count": null,
      "metadata": {
        "id": "85E4LGGNT-uh"
      },
      "outputs": [],
      "source": [
        "class LogisticRegressionModel(nn.Module):\n",
        "    def __init__(self):\n",
        "        super().__init__()\n",
        "        # TODO: initialize the neural network layers (flatten, and then sequential with a Linear Layer(28 * 28, 10), and a sigmoid activation)\n",
        "        self.flatten = nn.Flatten()\n",
        "        self.linear = nn.Linear(28 * 28, 10)\n",
        "        self.sigmoid = nn.Sigmoid()\n",
        "\n",
        "    def forward(self, x):\n",
        "        # TODO: define the forward pass and return outputs (call the layers in the init function in sequence here)\n",
        "        x = self.flatten(x)        # Flatten the input\n",
        "        x = self.linear(x)         # Pass through the linear layer\n",
        "        return x"
      ]
    },
    {
      "cell_type": "markdown",
      "metadata": {
        "id": "-guB3Sm0T-uh"
      },
      "source": [
        "**TODOs:**\n",
        "\n",
        "1.  **Instantiate Logistic Regression:**\n",
        "\n",
        "    - Create a logistic regression model and assign it to the variable `logreg`. Ensure that the model is moved to the GPU device for optimized computation.\n",
        "\n",
        "2.  **Set Loss Criterion:**\n",
        "\n",
        "    - Define the loss criterion as `CrossEntropyLoss`. For detailed information, consult the PyTorch [documentation on loss functions](https://pytorch.org/docs/stable/nn.html#loss-functions). Remember, `CrossEntropyLoss` inherently applies softmax, so there's no need to include an additional softmax layer in your model.\n",
        "\n",
        "3.  **Complete the Training Loop:**\n",
        "\n",
        "    - Fill in the missing sections in the training loop as indicated by the `#TODO` comments. This involves correctly updating the model weights through backpropagation and managing gradients.\n",
        "\n",
        "4.  **Track Training Accuracy:**\n",
        "\n",
        "    - For each training epoch, record the accuracy into a list named `acc_LIST_log`. Make sure the recorded values are of type float.\n",
        "\n",
        "5.  **Track Average Loss:**\n",
        "\n",
        "    - Similarly, log the average loss per epoch into a list called `loss_LIST_log`, ensuring the data type is float.\n",
        "\n",
        "**Additional Instructions:**\n",
        "\n",
        "- Use the `train_loader` for training the logistic regression model.\n",
        "- The optimizer should be Adam with a learning rate of 1e-4.\n",
        "- **Important:** If you observe an increase in loss during training, review the model implementation for potential errors. Accurate implementation should not result in loss increments.\n",
        "\n",
        "**Note:** Ensure that both `acc_LIST_log` and `loss_LIST_log` contain data as floats, not tensors.\n"
      ]
    },
    {
      "cell_type": "code",
      "execution_count": null,
      "metadata": {
        "colab": {
          "base_uri": "https://localhost:8080/"
        },
        "id": "UzMz0whIT-ui",
        "outputId": "31249d5a-3e31-4808-ca15-1c406f7c38fe"
      },
      "outputs": [
        {
          "output_type": "stream",
          "name": "stdout",
          "text": [
            "Epoch [1/0] Loss: 1.6910, Accuracy: 45.54%\n",
            "Epoch [2/1] Loss: 1.2638, Accuracy: 61.10%\n",
            "Epoch [3/2] Loss: 1.1634, Accuracy: 63.80%\n",
            "Epoch [4/3] Loss: 1.1105, Accuracy: 64.93%\n",
            "Epoch [5/4] Loss: 1.0787, Accuracy: 65.98%\n",
            "Epoch [6/5] Loss: 1.0668, Accuracy: 66.39%\n",
            "Epoch [7/6] Loss: 1.0539, Accuracy: 67.07%\n",
            "Epoch [8/7] Loss: 1.0423, Accuracy: 67.31%\n",
            "Epoch [9/8] Loss: 1.0519, Accuracy: 67.28%\n",
            "Epoch [10/9] Loss: 1.0376, Accuracy: 67.86%\n",
            "CPU times: user 5min 50s, sys: 1.36 s, total: 5min 51s\n",
            "Wall time: 5min 53s\n"
          ]
        }
      ],
      "source": [
        "%%time\n",
        "# TODO: Instantiate the model\n",
        "logreg = LogisticRegressionModel().to(device)\n",
        "\n",
        "# TODO: Set the loss criterion to be Cross Entropy Loss\n",
        "criterion = nn.CrossEntropyLoss()\n",
        "\n",
        "# TODO: Set the optimizer to be Adam with a learning rate of 1e-4\n",
        "optimizer = optim.Adam(logreg.parameters(), lr=1e-4)\n",
        "\n",
        "epoch = 10\n",
        "\n",
        "loss_LIST_log = []\n",
        "acc_LIST_log = []\n",
        "\n",
        "# Train the Model\n",
        "for epoch in range(epoch):\n",
        "  running_loss = 0.0\n",
        "  correct = 0\n",
        "  total = 0\n",
        "  for inputs, labels in train_loader:\n",
        "      labels = labels.type(torch.LongTensor) # Cast to Float\n",
        "      inputs, labels = inputs.to(device), labels.to(device)\n",
        "\n",
        "      ## TODO\n",
        "      # Step 1: Reset the optimizer tensor gradient every mini-batch\n",
        "      optimizer.zero_grad()\n",
        "\n",
        "      # Step 2: Feed the network the train data\n",
        "      outputs = logreg(inputs)\n",
        "\n",
        "      # Step 3: Get the prediction using argmax\n",
        "      _, predicted = torch.max(outputs, 1)\n",
        "\n",
        "      # Step 4: Find average loss for one mini-batch of inputs\n",
        "      loss = criterion(outputs, labels)\n",
        "\n",
        "      # Step 5: Do a back propagation\n",
        "      loss.backward()\n",
        "\n",
        "      # Step 6: Update the weight using the gradients from back propagation by learning step\n",
        "      optimizer.step()\n",
        "      # Step 7: Get loss and add to accumulated loss for each epoch\n",
        "      running_loss += loss.item()\n",
        "      # Step 8: Get number of correct prediction and increment the number of correct and total predictions after this batch\n",
        "      # Hint: we need to detach the numbers from GPU to CPU, which stores accuracy and loss\n",
        "      correct += (predicted == labels).sum().item()\n",
        "      total += labels.size(0)\n",
        "\n",
        "\n",
        "  # Step 9: Calculate training accuracy for each epoch (should multiply by 100 to get percentage), store in variable called 'accuracy', and add to acc_LIST_log\n",
        "  accuracy = 100 * correct / total\n",
        "  acc_LIST_log.append(accuracy)\n",
        "\n",
        "  # Step 10: Get average loss for each epoch and add to loss_LIST_log\n",
        "  epoch_loss = running_loss / len(train_loader)\n",
        "  loss_LIST_log.append(epoch_loss)\n",
        "  # Step 11: Print the loss and accuracy for each epoch\n",
        "  print(f'Epoch [{epoch + 1}/{epoch}] Loss: {epoch_loss:.4f}, Accuracy: {accuracy:.2f}%')"
      ]
    },
    {
      "cell_type": "markdown",
      "metadata": {
        "id": "p8_pUY2RT-ui"
      },
      "source": [
        "Use your matplotlib skills to visualize the training process. Plot the training accuracy and loss over the epochs.\n"
      ]
    },
    {
      "cell_type": "code",
      "execution_count": null,
      "metadata": {
        "colab": {
          "base_uri": "https://localhost:8080/",
          "height": 276
        },
        "id": "BtYhcyWQT-ui",
        "outputId": "25644cb5-d5a6-4f19-8c26-bfa2dd7ab58a"
      },
      "outputs": [
        {
          "output_type": "display_data",
          "data": {
            "text/plain": [
              "<Figure size 1200x500 with 2 Axes>"
            ],
            "image/png": "[encoded data removed]"
          },
          "metadata": {}
        }
      ],
      "source": [
        "plt.figure(figsize=(12, 5))\n",
        "\n",
        "# Plot training accuracy\n",
        "plt.subplot(1, 2, 1)\n",
        "plt.plot(range(1, len(acc_LIST_log) + 1), acc_LIST_log, label='Training Accuracy', marker='o', linestyle='-')\n",
        "plt.ylabel('Accuracy (%)')\n",
        "plt.title('Training Accuracy over Epochs')\n",
        "plt.grid(True)\n",
        "plt.legend()\n",
        "\n",
        "plt.subplot(1, 2, 2)\n",
        "plt.plot(range(1, len(loss_LIST_log) + 1), loss_LIST_log, label='Training Loss', marker='o', linestyle='-')\n",
        "plt.xlabel('Epoch')\n",
        "plt.ylabel('Loss')\n",
        "plt.title('Training Loss over Epochs')\n",
        "plt.grid(True)\n",
        "plt.legend()\n",
        "\n",
        "plt.tight_layout()\n",
        "plt.show()"
      ]
    },
    {
      "cell_type": "markdown",
      "metadata": {
        "id": "Kkeh3fDoT-ui"
      },
      "source": [
        "Run the trained logistic regression model on the test set and report the accuracy.\n"
      ]
    },
    {
      "cell_type": "code",
      "execution_count": null,
      "metadata": {
        "colab": {
          "base_uri": "https://localhost:8080/"
        },
        "id": "HbQN9R5KT-ui",
        "outputId": "247211a9-971b-4a2f-909e-4b3503999168"
      },
      "outputs": [
        {
          "output_type": "stream",
          "name": "stdout",
          "text": [
            "Test Accuracy: 68.68%\n"
          ]
        }
      ],
      "source": [
        "total = 0\n",
        "correct = 0\n",
        "with torch.no_grad():\n",
        "    for images, labels in test_loader:\n",
        "        labels = labels.type(torch.LongTensor)\n",
        "        images, labels = images.to(device), labels.to(device)\n",
        "        # TODO: Get the outputs by passing the test data through the model\n",
        "        outputs =  logreg(images)\n",
        "        # TODO: Get the prediction using argmax\n",
        "        _, predicted = torch.max(outputs.data, 1)\n",
        "        # TODO: Get number of correct prediction and add to correct and total\n",
        "        correct += (predicted == labels).sum().item()\n",
        "        total += labels.size(0)\n",
        "\n",
        "# TODO: Calculate test accuracy for logistic regression (should multiply by 100)\n",
        "test_acc_log =  100 * correct / total\n",
        "\n",
        "# TODO: Print the test accuracy\n",
        "print(f'Test Accuracy: {test_acc_log:.2f}%')\n"
      ]
    },
    {
      "cell_type": "markdown",
      "metadata": {
        "id": "d0PydcKoT-ui"
      },
      "source": [
        "## Part 5: Neural Network\n",
        "\n",
        "Now that you have built the logistic regression model, you probably noticed that the accuracy is not very high. This is because logistic regression is a linear model, and is not very good at capturing the complex relationships in this sort of problem setting. Let's try a conventional neural network model to see if we can improve the accuracy (feedforward neural network).\n",
        "\n",
        "We will create a feedforward neural network (FNN) with 1 hidden layer with 256 output units (note that the last layer should have 10 output units, corresponding to the 10 classes).\n",
        "\n",
        "A key question to consider is the choice of activation function. Feel free to play around with different activation functions and see how they affect the model's performance. Follow the slides and add activations to each of the hidden layers.\n"
      ]
    },
    {
      "cell_type": "code",
      "execution_count": null,
      "metadata": {
        "id": "ot6CWJvHT-ui"
      },
      "outputs": [],
      "source": [
        "class FNN(nn.Module):\n",
        "    def __init__(self):\n",
        "        super().__init__()\n",
        "        # TODO: initialize the neural network layers\n",
        "        self.flatten = nn.Flatten()\n",
        "        self.hidden_layer = nn.Linear(28 * 28, 256)\n",
        "        self.activation = nn.ReLU()\n",
        "        self.output_layer = nn.Linear(256, 10)\n",
        "\n",
        "    def forward(self, x):\n",
        "        # TODO: define the forward pass and return outputs\n",
        "        x = self.flatten(x)\n",
        "        x = self.hidden_layer(x)\n",
        "        x = self.activation(x)\n",
        "        x = self.output_layer(x)\n",
        "        return x"
      ]
    },
    {
      "cell_type": "markdown",
      "metadata": {
        "id": "xI8NyXzxT-ui"
      },
      "source": [
        "**TODOs**\n",
        "\n",
        "1.  **Initialize the FNN Model:**\n",
        "\n",
        "    - Assign your Feedforward Neural Network (FNN) model to the variable `fnn`. Ensure the model is transferred to the appropriate device environment for efficient computation.\n",
        "\n",
        "2.  **Define the Loss Function:**\n",
        "\n",
        "    - Use `CrossEntropyLoss` as the loss function for this model. Consult the [PyTorch documentation on loss functions](https://pytorch.org/docs/stable/nn.html#loss-functions) for more information. This function is suitable for classification tasks and automatically applies the softmax layer.\n",
        "\n",
        "3.  **Complete Training Loop:**\n",
        "\n",
        "    - Address the incomplete sections within the training loop as indicated. Properly manage weight updates and gradients during backpropagation.\n",
        "\n",
        "4.  **Record Training Accuracy:**\n",
        "\n",
        "    - Store the accuracy of each epoch in a list named `acc_LIST_FNN`. Ensure that these values are stored as floats.\n",
        "\n",
        "5.  **Log Average Loss:**\n",
        "\n",
        "    - Similarly, keep track of the average loss per epoch in a list named `loss_LIST_FNN`, ensuring the values are in float format.\n",
        "\n",
        "**Guidelines:**\n",
        "\n",
        "- The optimizer for this task is predefined as Adam, with a learning rate of 1e-4.\n",
        "- To properly handle gradients, invoke `optimizer.zero_grad()` to reset gradients before each `.backward()` operation.\n",
        "- **Caution:** An increase in loss during training indicates a potential issue with the model's implementation. It's crucial to review and correct any errors in such cases.\n",
        "\n",
        "**Execution Time:**\n",
        "\n",
        "- The execution of the following code block is estimated to take approximately 4-5 minutes.\n",
        "\n",
        "**Note:** Both `acc_LIST_FNN` and `loss_LIST_FNN` must only contain values of type float, not tensors.\n"
      ]
    },
    {
      "cell_type": "code",
      "execution_count": null,
      "metadata": {
        "colab": {
          "base_uri": "https://localhost:8080/"
        },
        "id": "xFTh6IxhT-ui",
        "outputId": "2e78927d-75ba-4c29-c345-e8c57c41a59e"
      },
      "outputs": [
        {
          "output_type": "stream",
          "name": "stdout",
          "text": [
            "Epoch [1/0] - Loss: 1.3321, Accuracy: 59.22%\n",
            "Epoch [2/1] - Loss: 0.9690, Accuracy: 69.99%\n",
            "Epoch [3/2] - Loss: 0.8381, Accuracy: 74.14%\n",
            "Epoch [4/3] - Loss: 0.7410, Accuracy: 77.32%\n",
            "Epoch [5/4] - Loss: 0.6696, Accuracy: 79.68%\n",
            "Epoch [6/5] - Loss: 0.6113, Accuracy: 81.85%\n",
            "Epoch [7/6] - Loss: 0.5617, Accuracy: 83.10%\n",
            "Epoch [8/7] - Loss: 0.5283, Accuracy: 84.27%\n",
            "Epoch [9/8] - Loss: 0.4892, Accuracy: 85.40%\n",
            "Epoch [10/9] - Loss: 0.4656, Accuracy: 85.87%\n",
            "CPU times: user 5min 51s, sys: 1.26 s, total: 5min 52s\n",
            "Wall time: 5min 55s\n"
          ]
        }
      ],
      "source": [
        "%%time\n",
        "# Sending the data to device (CPU or GPU)\n",
        "# TODO instantiate the FNN model to variable fnn\n",
        "fnn = FNN().to(torch.device(\"cuda\" if torch.cuda.is_available() else \"cpu\"))\n",
        "\n",
        "# Set the loss criterion as CrossEntropyLoss\n",
        "criterion = nn.CrossEntropyLoss()\n",
        "\n",
        "# Set the optimizer as Adam with a learning rate of 1e-4\n",
        "optimizer = optim.Adam(fnn.parameters(), lr=1e-4)\n",
        "\n",
        "epoch = 10\n",
        "\n",
        "acc_LIST_FNN = []\n",
        "loss_LIST_FNN = []\n",
        "# Train the FNN\n",
        "for epoch in range(epoch):\n",
        "  running_loss = 0.0\n",
        "  correct = 0\n",
        "  total = 0\n",
        "  for inputs, labels in train_loader:\n",
        "      labels = labels.type(torch.LongTensor) # Cast to Long\n",
        "      inputs, labels = inputs.to(device), labels.to(device)\n",
        "\n",
        "      ## TODO\n",
        "      # Step 1: Reset the optimizer tensor gradient every mini-batch\n",
        "      optimizer.zero_grad()\n",
        "      # Step 2: Feed the network the train data\n",
        "      outputs = fnn(inputs)\n",
        "      # Step 3: Get the prediction using argmax\n",
        "      _, predicted = torch.max(outputs.data, 1)\n",
        "      # Step 4: Find average loss for one mini-batch of inputs\n",
        "      loss = criterion(outputs, labels)\n",
        "      # Step 5: Do a back propagation\n",
        "      loss.backward()\n",
        "      # Step 6: Update the weight using the gradients from back propagation by learning step\n",
        "      optimizer.step()\n",
        "      # Step 7: Get loss and add to accumulated loss for each epoch\n",
        "      running_loss += loss.item()\n",
        "      # Step 8: Get number of correct prediction and increment the number of correct and total predictions after this batch\n",
        "      total += labels.size(0)\n",
        "      correct += (predicted == labels).sum().item()\n",
        "  # Step 9: Calculate training accuracy for each epoch (should multiply by 100 to get percentage), store in variable called 'accuracy', and add to acc_LIST_FNN\n",
        "  accuracy = 100 * correct / total\n",
        "  acc_LIST_FNN.append(accuracy)\n",
        "  # Step 10: Get average loss for each epoch and add to loss_LIST_FNN\n",
        "  avg_loss = running_loss / len(train_loader)\n",
        "  loss_LIST_FNN.append(avg_loss)\n",
        "\n",
        "  # Step 11: Print the loss and accuracy for each epoch\n",
        "  print(f'Epoch [{epoch + 1}/{epoch}] - Loss: {avg_loss:.4f}, Accuracy: {accuracy:.2f}%')"
      ]
    },
    {
      "cell_type": "markdown",
      "metadata": {
        "id": "WZdrzLTOT-ui"
      },
      "source": [
        "Use your matplotlib skills to visualize the training process. Plot the training accuracy and loss over the epochs.\n"
      ]
    },
    {
      "cell_type": "code",
      "execution_count": null,
      "metadata": {
        "colab": {
          "base_uri": "https://localhost:8080/",
          "height": 276
        },
        "id": "Ic4ftXWWT-ui",
        "outputId": "048d1e22-d84e-406e-f35e-146b386af1ba"
      },
      "outputs": [
        {
          "output_type": "display_data",
          "data": {
            "text/plain": [
              "<Figure size 1200x500 with 2 Axes>"
            ],
            "image/png": "[encoded data removed]"
          },
          "metadata": {}
        }
      ],
      "source": [
        "plt.figure(figsize=(12, 5))\n",
        "\n",
        "plt.subplot(1, 2, 1)\n",
        "plt.plot(range(1, len(acc_LIST_FNN) + 1), acc_LIST_FNN, label='Training Accuracy', marker='o', linestyle='-')\n",
        "plt.xlabel('Epoch')\n",
        "plt.ylabel('Accuracy (%)')\n",
        "plt.title('Training Accuracy over Epochs')\n",
        "plt.grid(True)\n",
        "plt.legend()\n",
        "\n",
        "plt.subplot(1, 2, 2)\n",
        "plt.plot(range(1, len(loss_LIST_FNN) + 1), loss_LIST_FNN, label='Training Loss', marker='o', linestyle='-')\n",
        "plt.xlabel('Epoch')\n",
        "plt.ylabel('Loss')\n",
        "plt.title('Training Loss over Epochs')\n",
        "plt.grid(True)\n",
        "plt.legend()\n",
        "\n",
        "plt.tight_layout()\n",
        "plt.show()"
      ]
    },
    {
      "cell_type": "markdown",
      "metadata": {
        "id": "6aW23SGhT-ui"
      },
      "source": [
        "Now, run the trained FNN model on the test set and report the accuracy.\n"
      ]
    },
    {
      "cell_type": "code",
      "execution_count": null,
      "metadata": {
        "colab": {
          "base_uri": "https://localhost:8080/"
        },
        "id": "ZxRTwXJET-uj",
        "outputId": "7b993d1d-57bf-46b3-cbb4-af2534593f8d"
      },
      "outputs": [
        {
          "output_type": "stream",
          "name": "stdout",
          "text": [
            "Test Accuracy of FNN: 87.00%\n"
          ]
        }
      ],
      "source": [
        "total = 0\n",
        "correct = 0\n",
        "with torch.no_grad():\n",
        "    for images, labels in test_loader:\n",
        "        labels = labels.type(torch.LongTensor)\n",
        "        images, labels = images.to(device), labels.to(device)\n",
        "\n",
        "        # TODO: Get the outputs by passing the test data through the model\n",
        "        outputs = fnn(images)\n",
        "\n",
        "        # TODO: Get the prediction using argmax\n",
        "        _, predicted = torch.max(outputs, 1)\n",
        "\n",
        "        # TODO: Get number of correct prediction and add to correct and total\n",
        "        correct += (predicted == labels).sum().item()\n",
        "        total += labels.size(0)\n",
        "\n",
        "# TODO: Calculate test accuracy for FNN (should multiply by 100)\n",
        "test_acc_FNN = (correct / total) * 100\n",
        "\n",
        "# Print the test accuracy\n",
        "print(f'Test Accuracy of FNN: {test_acc_FNN:.2f}%')\n"
      ]
    },
    {
      "cell_type": "markdown",
      "metadata": {
        "id": "LNWyUQhNT-uj"
      },
      "source": [
        "## Part 6: Convolutional Neural Network [EC (Optional)]\n",
        "\n",
        "Finally, we will build a convolutional neural network (CNN) to classify the images. CNNs are particularly good at image recognition tasks, and we should expect to see a significant improvement in accuracy compared to the logistic regression and feedforward neural network models.\n",
        "\n",
        "In this task, you will design a Convolutional Neural Network (CNN) architecture using PyTorch. The key components of CNNs include:\n",
        "\n",
        "- Convolutional Layers\n",
        "- Pooling Layers\n",
        "- Linear (Fully Connected) Layers\n",
        "- Activation Functions\n",
        "\n",
        "**CNN Architecture Requirements:**\n",
        "\n",
        "Your CNN model should be structured into one or more blocks, with each block comprising the following sequence:\n",
        "\n",
        "1.  **Convolutional Layer:** This layer applies a set of learnable filters to the input image, capturing spatial features.\n",
        "2.  **Activation Function:** Following the convolutional layer, an activation function introduces non-linearity to the model, enabling it to learn more complex patterns. Common choices include ReLU (Rectified Linear Unit).\n",
        "3.  **Max Pooling:** A pooling layer reduces the dimensionality of the data, enhancing the detection of features by summarizing the presence of features in patches of the feature map.\n",
        "\n",
        "After passing through one or more of these blocks, the output should be:\n",
        "\n",
        "4.  **Flattened:** The multi-dimensional output from the convolutional blocks is flattened into a single vector to serve as input for the dense layers.\n",
        "5.  **Linear Layers:** One or more fully connected (dense) layers follow, where each layer is followed by an activation function, except the final layer.\n",
        "6.  **Output Layer:** The last dense layer's output shape must match the number of classes in your dataset. This layer typically does not have an activation function if you're using a loss function like `CrossEntropyLoss`, which incorporates softmax.\n",
        "\n",
        "**Design Considerations:**\n",
        "\n",
        "- For the purposes of this assignment, limit the architecture to no more than two or three convolutional blocks to prevent overly complex models.\n",
        "- Ensure the final output layer's size corresponds precisely to the number of classes for accurate classification.\n"
      ]
    },
    {
      "cell_type": "markdown",
      "metadata": {
        "id": "hZuIDexXT-uj"
      },
      "source": [
        "To calculate the dimensions of the feature maps at various stages of a Convolutional Neural Network (CNN), especially when dealing with square images, we can create a function that computes the size of the output feature map given the input size, filter size, stride, and padding applied in both convolutional and pooling layers. This calculation is crucial for determining the correct input size for the fully connected layers that follow the convolutional layers in the network.\n",
        "\n",
        "Here's a generalized function in Python that computes the output dimension of a feature map given these parameters:\n"
      ]
    },
    {
      "cell_type": "code",
      "execution_count": null,
      "metadata": {
        "id": "44BWyFlxT-uj"
      },
      "outputs": [],
      "source": [
        "def calculate_output_dimension(input_size, filter_size, stride, padding):\n",
        "    \"\"\"\n",
        "    Calculate the output dimension of a feature map.\n",
        "\n",
        "    Args:\n",
        "    - input_size (int): The height/width of the input feature map (assuming a square).\n",
        "    - filter_size (int): The height/width of the filter (kernel) used (assuming a square).\n",
        "    - stride (int): The stride with which the filter is applied.\n",
        "    - padding (int): The amount of padding applied to the input feature map.\n",
        "\n",
        "    Returns:\n",
        "    - int: The height/width of the output feature map (assuming a square).\n",
        "    \"\"\"\n",
        "\n",
        "\n",
        "    return ((input_size - filter_size + 2 * padding) // stride) + 1\n"
      ]
    },
    {
      "cell_type": "markdown",
      "metadata": {
        "id": "nMlTio-2T-uj"
      },
      "source": [
        "This function assumes the images are square, meaning the height and width are equal. This simplification is common in many CNN architectures, especially when working with datasets of standardized image sizes (e.g., CIFAR-10, MNIST).\n",
        "\n",
        "To apply this function, simply plug in the specific values for each convolutional or pooling layer in your network to understand the dimensions at each stage. This is crucial for designing the network architecture, particularly for specifying the input size to the first fully connected layer after the convolutional layers.\n"
      ]
    },
    {
      "cell_type": "markdown",
      "metadata": {
        "id": "keQYXJYfT-uj"
      },
      "source": [
        "**TODOs:**\n",
        "\n",
        "In your `__init__` method:\n",
        "\n",
        "1.  Construct between one to three `convolutional blocks`, each comprising a convolution layer, an activation function, and a pooling layer.\n",
        "2.  `Flatten` the output from the convolutional stages into a tensor.\n",
        "3.  Set up between one to three `fully-connected layers`.\n",
        "\n",
        "In your `forward` method (`def forward(self, x)`): 4. Implement the `forward` pass using the layers defined in the `__init__` method.\n",
        "\n",
        "---\n",
        "\n",
        "- **Note:** While the specifics of the convolution layers may differ, you might opt to utilize identical pooling layers and activation functions across all blocks. Should you choose uniform parameters for these components, a single instantiation of the pooling layer and the activation function is sufficient.\n",
        "- **Hint 1:** Leverage the `calculate_output_dimension` function along with the comments on input_dim and output_dim to monitor the dimensions flowing through each layer.\n",
        "- **Hint 2:** The dimensions you calculate are crucial for determining the input size for the initial fully-connected layer.\n",
        "- **Hint 3:** Each input to your network is a 28x28 image with a single color channel (gray-scale).\n",
        "- **Hint 4:** Ensure that the output size of the final fully-connected layer matches the number of classes in your dataset.\n"
      ]
    },
    {
      "cell_type": "code",
      "execution_count": null,
      "metadata": {
        "id": "eJx6IE8rT-uj"
      },
      "outputs": [],
      "source": [
        "import torch.nn.functional as F\n",
        "\n",
        "class CNN(nn.Module):\n",
        "    def __init__(self):\n",
        "        super().__init__()\n",
        "        # TODO: initialize the neural network layers\n",
        "        self.conv1 = nn.Conv2d(in_channels=1, out_channels=32, kernel_size=3, stride=1, padding=1)\n",
        "        self.conv2 = nn.Conv2d(in_channels=32, out_channels=64, kernel_size=3, stride=1, padding=1)\n",
        "        self.pool = nn.MaxPool2d(kernel_size=2, stride=2)\n",
        "        # Adjusted fully connected layers\n",
        "        self.fc1 = nn.Linear(64 * 14 * 14, 512)\n",
        "        self.fc2 = nn.Linear(512, 10)\n",
        "\n",
        "    def forward(self, x):\n",
        "        # TODO\n",
        "        # Step 1. Pass the images (x) through convolution block 1 and (block 2, 3 if you have built them)\n",
        "        x = F.relu(self.conv1(x))\n",
        "        x = self.pool(F.relu(self.conv2(x)))\n",
        "        # Step 2. Flatten the image\n",
        "        x = x.view(-1, 64 * 14 * 14)\n",
        "\n",
        "        # Step 3. Pass the output through the fully-connected layers (remember to include activation function(s))\n",
        "        x = F.relu(self.fc1(x))\n",
        "        x = self.fc2(x)\n",
        "        return x\n",
        "\n"
      ]
    },
    {
      "cell_type": "markdown",
      "metadata": {
        "id": "wJh1WkN1T-uj"
      },
      "source": [
        "**TODOs**\n",
        "\n",
        "1.  **Initialize the CNN Model:**\n",
        "\n",
        "    - Assign your Convolutional Neural Network model to the variable `cnn` and ensure it's moved to the appropriate computational device.\n",
        "\n",
        "2.  **Define the Loss Function:**\n",
        "\n",
        "    - Use `CrossEntropyLoss` as your criterion for model evaluation. For further details, refer to the [PyTorch documentation on loss functions](https://pytorch.org/docs/stable/nn.html#loss-functions).\n",
        "\n",
        "3.  **Complete the Training Loop:**\n",
        "\n",
        "    - Address the incomplete sections within the training loop to ensure proper model training.\n",
        "\n",
        "4.  **Compute Training Accuracy:**\n",
        "\n",
        "    - For each epoch, calculate the training accuracy. Convert the accuracy to percentage form and store these values in a variable named `accuracy`.\n",
        "\n",
        "5.  **Log Training Accuracy:**\n",
        "\n",
        "    - Record the training accuracy for every epoch in a list named `acc_LIST_CNN`.\n",
        "\n",
        "6.  **Log Average Loss:**\n",
        "\n",
        "    - Similarly, maintain a record of the average loss per epoch in a list called `loss_LIST_CNN`.\n",
        "\n",
        "**Fixed Parameters:**\n",
        "\n",
        "- **Optimizer:** The model uses Adam as its optimizer.\n",
        "- **Epochs:** Training will proceed for 10 epochs.\n",
        "\n",
        "---\n",
        "\n",
        "**Hints and Notes:**\n",
        "\n",
        "- **Weight Updates:** To facilitate proper backpropagation, remember to clear the gradients before each backward pass by calling `optimizer.zero_grad()`.\n",
        "- **Model Implementation Check:** If you notice an increase in loss during training, reassess your model's implementation for potential errors.\n",
        "- **Training Duration:** Typically, training should be completed within 5 to 10 minutes.\n",
        "- **Data Types:** Ensure that `acc_LIST_CNN` and `loss_LIST_CNN` contain values as floats, not tensors.\n"
      ]
    },
    {
      "cell_type": "code",
      "execution_count": null,
      "metadata": {
        "colab": {
          "base_uri": "https://localhost:8080/"
        },
        "id": "a8sTiPoOT-uj",
        "outputId": "d073ff29-b898-4b66-c829-b507cd605c36"
      },
      "outputs": [
        {
          "output_type": "stream",
          "name": "stdout",
          "text": [
            "Epoch [1/0] - Loss: 0.7816, Accuracy: 75.58%\n",
            "Epoch [2/1] - Loss: 0.3455, Accuracy: 89.30%\n",
            "Epoch [3/2] - Loss: 0.2686, Accuracy: 91.70%\n",
            "Epoch [4/3] - Loss: 0.2231, Accuracy: 93.06%\n",
            "Epoch [5/4] - Loss: 0.1952, Accuracy: 93.96%\n",
            "Epoch [6/5] - Loss: 0.1751, Accuracy: 94.56%\n",
            "Epoch [7/6] - Loss: 0.1506, Accuracy: 95.30%\n",
            "Epoch [8/7] - Loss: 0.1400, Accuracy: 95.63%\n",
            "Epoch [9/8] - Loss: 0.1245, Accuracy: 96.09%\n",
            "Epoch [10/9] - Loss: 0.1189, Accuracy: 96.22%\n",
            "CPU times: user 6min 20s, sys: 1.29 s, total: 6min 21s\n",
            "Wall time: 6min 27s\n"
          ]
        }
      ],
      "source": [
        "%%time\n",
        "# Sending the data to device (CPU or GPU)\n",
        "# TODO: instantiate the CNN model to variable cnn\n",
        "cnn =  CNN().to(device)\n",
        "\n",
        "# TODO: set the loss criterion as CrossEntropyLoss\n",
        "criterion = nn.CrossEntropyLoss()\n",
        "\n",
        "# TODO: set the optimizer as Adam with a learning rate of 1e-4\n",
        "optimizer = torch.optim.Adam(cnn.parameters(), lr=1e-4)\n",
        "\n",
        "epoch = 10\n",
        "\n",
        "acc_LIST_CNN = []\n",
        "loss_LIST_CNN = []\n",
        "\n",
        "# Train the CNN\n",
        "for epoch in range(epoch):\n",
        "  running_loss = 0.0\n",
        "  correct = 0\n",
        "  total = 0\n",
        "  for inputs, labels in train_loader:\n",
        "      labels = labels.type(torch.LongTensor) # Cast to Float\n",
        "      inputs, labels = inputs.to(device), labels.to(device)\n",
        "      ## TODO\n",
        "      # Step 1: Reset the optimizer tensor gradient every mini-batch\n",
        "      optimizer.zero_grad()\n",
        "      # Step 2: Feed the network the train data\n",
        "      outputs = cnn(inputs)\n",
        "      # Step 3: Get the prediction using argmax\n",
        "      _, predicted = torch.max(outputs, 1)\n",
        "      # Step 4: Find average loss for one mini-batch of inputs\n",
        "      loss = criterion(outputs, labels)\n",
        "      # Step 5: Do a back propagation\n",
        "      loss.backward()\n",
        "      # Step 6: Update the weight using the gradients from back propagation by learning step\n",
        "      optimizer.step()\n",
        "      # Step 7: Get loss and add to accumulated loss for each epoch\n",
        "      running_loss += loss.item()\n",
        "\n",
        "\n",
        "      # Step 8: Get number of correct prediction and increment the number of correct and total predictions after this batch\n",
        "      # Hint: we need to detach the numbers from GPU to CPU, which stores accuracy and loss\n",
        "      correct += (predicted == labels).sum().item()\n",
        "      total += labels.size(0)\n",
        "\n",
        "  # Step 9: Calculate training accuracy for each epoch (should multiply by 100 to get percentage), store in variable called 'accuracy', and add to acc_LIST_CNN\n",
        "  accuracy = 100 * correct / total\n",
        "  acc_LIST_CNN.append(accuracy)\n",
        "  # Step 10: Get average loss for each epoch and add to loss_LIST_CNN\n",
        "  avg_loss = running_loss / len(train_loader)\n",
        "  loss_LIST_CNN.append(avg_loss)\n",
        "  # Step 11: Print the loss and accuracy for each epoch\n",
        "  print(f\"Epoch [{epoch+1}/{epoch}] - Loss: {avg_loss:.4f}, Accuracy: {accuracy:.2f}%\")\n"
      ]
    },
    {
      "cell_type": "markdown",
      "metadata": {
        "id": "X-p6KWH9T-uk"
      },
      "source": [
        "You know the drill. Use your matplotlib skills to visualize the training process. Plot the training accuracy and loss over the epochs.\n"
      ]
    },
    {
      "cell_type": "code",
      "execution_count": null,
      "metadata": {
        "colab": {
          "base_uri": "https://localhost:8080/",
          "height": 717
        },
        "id": "wIGaV58ZT-uk",
        "outputId": "ebc6d3b5-8ec0-47bd-8ff8-cb2bb897e13b"
      },
      "outputs": [
        {
          "output_type": "display_data",
          "data": {
            "text/plain": [
              "<Figure size 1000x500 with 1 Axes>"
            ],
            "image/png": "[encoded data removed]"
          },
          "metadata": {}
        },
        {
          "output_type": "display_data",
          "data": {
            "text/plain": [
              "<Figure size 1000x500 with 1 Axes>"
            ],
            "image/png": "[encoded data removed]"
          },
          "metadata": {}
        }
      ],
      "source": [
        "plt.figure(figsize=(10, 5))\n",
        "plt.plot(range(1, len(acc_LIST_CNN) + 1), acc_LIST_CNN, label='Training Accuracy', color='blue')\n",
        "plt.title('Training Accuracy over Epochs')\n",
        "plt.xlabel('Epochs')\n",
        "plt.ylabel('Accuracy (%)')\n",
        "plt.xticks(range(1, len(acc_LIST_CNN) + 1))\n",
        "plt.grid(True)\n",
        "plt.legend()\n",
        "plt.show()\n",
        "\n",
        "plt.figure(figsize=(10, 5))\n",
        "plt.plot(range(1, len(loss_LIST_CNN) + 1), loss_LIST_CNN, label='Training Loss', color='red')\n",
        "plt.title('Training Loss over Epochs')\n",
        "plt.xlabel('Epochs')\n",
        "plt.ylabel('Loss')\n",
        "plt.xticks(range(1, len(loss_LIST_CNN) + 1))\n",
        "plt.grid(True)\n",
        "plt.legend()\n",
        "plt.show()"
      ]
    },
    {
      "cell_type": "markdown",
      "metadata": {
        "id": "lbM4SIH_T-uk"
      },
      "source": [
        "Calculate the accuracy of the CNN model on the test set.\n"
      ]
    },
    {
      "cell_type": "code",
      "execution_count": null,
      "metadata": {
        "colab": {
          "base_uri": "https://localhost:8080/"
        },
        "id": "5Yf4SE-CT-uk",
        "outputId": "86fee7f6-f883-4d27-ccb4-2e7925ccaf9d"
      },
      "outputs": [
        {
          "output_type": "stream",
          "name": "stdout",
          "text": [
            "Test Accuracy for CNN: 96.60%\n"
          ]
        }
      ],
      "source": [
        "# TODO\n",
        "total = 0\n",
        "correct = 0\n",
        "with torch.no_grad():\n",
        "    for images, labels in test_loader:\n",
        "        labels = labels.type(torch.LongTensor) # Cast to Float\n",
        "        images, labels = images.to(device), labels.to(device)\n",
        "        # TODO\n",
        "        # Get the output\n",
        "        outputs = cnn(images)\n",
        "\n",
        "        # Get the prediction using argmax\n",
        "        _, predicted = torch.max(outputs, 1)\n",
        "\n",
        "        # Get number of correct prediction and add to correct and total\n",
        "        correct += (predicted == labels).sum().item()\n",
        "        total += labels.size(0)\n",
        "\n",
        "\n",
        "# Calculate test accuracy for CNN (should multiple by 100)\n",
        "test_acc_CNN = (correct / total) * 100\n",
        "\n",
        "# Print the test accuracy\n",
        "print(f'Test Accuracy for CNN: {test_acc_CNN:.2f}%')"
      ]
    },
    {
      "cell_type": "markdown",
      "metadata": {
        "id": "091LpgnyT-uk"
      },
      "source": [
        "From the test accuracy of the three models, we can see that the CNN model performs the best. This is expected, as CNNs are particularly good at image recognition tasks.\n",
        "\n",
        "Digit recognition is used in a variety of applications, such as reading postal codes, recognizing handwritten numbers on bank checks, and recognizing numbers on car license plates. The MNIST dataset is a popular dataset for digit recognition, and the models we have built can be used in these applications.\n"
      ]
    },
    {
      "cell_type": "markdown",
      "metadata": {
        "id": "2gOfkUs2T-uk"
      },
      "source": [
        "Now, we want to see where the best model (CNN) is making mistakes. We will visualize some of the images that the CNN model is misclassifying. We may wonder, are there certain digits that are more difficult to classify than others? Are there certain images that are more difficult to classify than others? We will explore these questions by visualizing some of the misclassified images. To figure this out we will create a confusion matrix.\n"
      ]
    },
    {
      "cell_type": "code",
      "execution_count": null,
      "metadata": {
        "colab": {
          "base_uri": "https://localhost:8080/"
        },
        "id": "YvjmIjdOT-uk",
        "outputId": "39fdf572-30a7-4dce-9bca-c2fb5ddcbc67"
      },
      "outputs": [
        {
          "output_type": "stream",
          "name": "stdout",
          "text": [
            "     0    1    2    3    4    5    6    7    8    9\n",
            "0  449    0    0    0    0    0    0    2    0    0\n",
            "1    0  590    0    1    0    0    0    0    0    0\n",
            "2    3    2  484    0    3    0    0    5    4    0\n",
            "3    1    0    2  503    0    4    0    0    1    0\n",
            "4    1    3    4    1  464    0    1    2    2    2\n",
            "5    2    1    0    3    2  436    9    1    3    1\n",
            "6    5    2    3    0    3    7  477    0    1    1\n",
            "7    0    5   10    5    2    0    0  487    0   10\n",
            "8    4    0    9    1    2    2    0    2  444    2\n",
            "9    4    0    1    0    5    6    0    8    0  500\n"
          ]
        }
      ],
      "source": [
        "from sklearn.metrics import confusion_matrix\n",
        "import pandas as pd\n",
        "\n",
        "# Get predictions for the entire test dataset\n",
        "all_predicted = []\n",
        "all_labels = []\n",
        "with torch.no_grad():\n",
        "    for images, labels in test_loader:\n",
        "        images, labels = images.to(device), labels.to(device)\n",
        "        outputs = cnn(images)\n",
        "        _, predicted = torch.max(outputs, 1)\n",
        "        all_predicted.extend(predicted.cpu().numpy())\n",
        "        all_labels.extend(labels.cpu().numpy())\n",
        "\n",
        "# Compute confusion matrix\n",
        "conf_matrix = confusion_matrix(all_labels, all_predicted)\n",
        "\n",
        "# Visualize confusion matrix as a DataFrame\n",
        "confusion_matrix_df = pd.DataFrame(conf_matrix, index=range(10), columns=range(10))\n",
        "print(confusion_matrix_df)"
      ]
    },
    {
      "cell_type": "markdown",
      "metadata": {
        "id": "nLt1PEZnT-uk"
      },
      "source": [
        "Visualize the confusion matrix using matplotlib.\n"
      ]
    },
    {
      "cell_type": "code",
      "execution_count": null,
      "metadata": {
        "colab": {
          "base_uri": "https://localhost:8080/",
          "height": 542
        },
        "id": "sH4FOJiZT-uk",
        "outputId": "69da6bed-6825-4183-f75d-b86092e00623"
      },
      "outputs": [
        {
          "output_type": "display_data",
          "data": {
            "text/plain": [
              "<Figure size 1000x800 with 1 Axes>"
            ],
            "image/png": "[encoded data removed]"
          },
          "metadata": {}
        }
      ],
      "source": [
        "plt.figure(figsize=(10, 8))\n",
        "sns.heatmap(confusion_matrix_df, annot=True, fmt=\"d\", cmap=\"Blues\", cbar=False)\n",
        "plt.title(\"Confusion Matrix\")\n",
        "plt.xlabel(\"Predicted Label\")\n",
        "plt.ylabel(\"True Label\")\n",
        "plt.show()"
      ]
    },
    {
      "cell_type": "markdown",
      "metadata": {
        "id": "P52uJew7T-uk"
      },
      "source": [
        "What do you observe from the confusion matrix? Are there certain digits that are more difficult to classify than others? Are there certain digits that are easily confused with others?\n"
      ]
    },
    {
      "cell_type": "markdown",
      "metadata": {
        "id": "BTQStyx2T-uk"
      },
      "source": [
        "## Part 7: Applying Knowledge in New Contexts [EC (Optional)]\n",
        "\n",
        "Now that we've done a tutorial like exercise with the MNIST dataset, let's see if you can apply your knowledge to a new setting with a little less hand holding. You'll work with a dataset of Yelp reviews, aiming to predict the sentiment (positive or negative) of each review based on its content. The dataset comprises 100,000 Yelp reviews, each annotated with a binary rating indicating whether the review is positive (1) or negative (0). The reviews have been pre-processed into a term frequency format, retaining 1,072 significant words. Your task is to develop a neural network model that accurately classifies these reviews using PyTorch. This task is a little more open-ended because we want you to be creative in how you design your model. You can use any of the models you have learned about in this course, and you can experiment with different architectures, activation functions, and hyperparameters. We will provide a few hints and ideas/skeleton code to get you started, but feel free to experiment and try different things.\n"
      ]
    },
    {
      "cell_type": "markdown",
      "metadata": {
        "id": "-ngWp4ahT-uk"
      },
      "source": [
        "### Data Preparation\n",
        "\n",
        "**Objective:**\n",
        "\n",
        "Prepare the dataset for training and validation, ensuring all data is in the appropriate format (matrices or vectors) for neural network training.\n",
        "\n",
        "**Tasks:**\n",
        "\n",
        "1.  Load the Yelp review dataset from the provided CSV file, `YELP_tm_freq.csv`. This file contains pre-processed reviews in term frequency format.\n",
        "2.  Split the dataset into training and validation sets. Reserve 10,000 samples for validation (`data3_val`) and use the remaining 90,000 samples for training (`data3_train`).\n",
        "3.  Ensure the training and validation data are structured as matrices (features) and vectors (labels).\n"
      ]
    },
    {
      "cell_type": "code",
      "execution_count": null,
      "metadata": {
        "colab": {
          "base_uri": "https://localhost:8080/"
        },
        "id": "Sp1Az5SQT-uk",
        "outputId": "a3fb0c9e-3b8d-4676-9895-8b9d8517ff5f"
      },
      "outputs": [
        {
          "output_type": "stream",
          "name": "stdout",
          "text": [
            "Index(['user_id', 'stars', 'date', 'rating', 'accept', 'across', 'actual',\n",
            "       'add', 'addit', 'admit',\n",
            "       ...\n",
            "       'yes', 'yet', 'yogurt', 'youd', 'youll', 'young', 'your', 'youv', 'yum',\n",
            "       'yummi'],\n",
            "      dtype='object', length=952)\n",
            "Training features shape: torch.Size([900, 950])\n",
            "Training labels shape: torch.Size([900])\n",
            "Validation features shape: torch.Size([100, 950])\n",
            "Validation labels shape: torch.Size([100])\n"
          ]
        }
      ],
      "source": [
        "from sklearn.model_selection import train_test_split\n",
        "yelp_data = pd.read_csv(\"YELP_tm_freq.csv\")\n",
        "print(yelp_data.columns)\n",
        "\n",
        "# Step 2: Split the dataset into training and validation sets\n",
        "train_data, val_data = train_test_split(yelp_data, test_size=0.1, random_state=42)\n",
        "\n",
        "# Step 3: Prepare the data\n",
        "# Extract features (term frequencies) and labels from the training and validation sets\n",
        "X = yelp_data.drop(columns=['user_id', 'date'])\n",
        "y = yelp_data.iloc[:, -1]   # Labels (last column)\n",
        "\n",
        "# Convert features to numeric values\n",
        "X = X.astype(float)\n",
        "\n",
        "# Step 2: Split the dataset into training and validation sets\n",
        "X_train, X_val, y_train, y_val = train_test_split(X, y, test_size=0.1, random_state=42)\n",
        "\n",
        "# Step 3: Convert features and labels to tensors\n",
        "X_train_tensor = torch.tensor(X_train.values, dtype=torch.float32)\n",
        "y_train_tensor = torch.tensor(y_train.values, dtype=torch.float32)\n",
        "X_val_tensor = torch.tensor(X_val.values, dtype=torch.float32)\n",
        "y_val_tensor = torch.tensor(y_val.values, dtype=torch.float32)\n",
        "\n",
        "# Display the shapes of the tensors\n",
        "print(\"Training features shape:\", X_train_tensor.shape)\n",
        "print(\"Training labels shape:\", y_train_tensor.shape)\n",
        "print(\"Validation features shape:\", X_val_tensor.shape)\n",
        "print(\"Validation labels shape:\", y_val_tensor.shape)"
      ]
    },
    {
      "cell_type": "markdown",
      "metadata": {
        "id": "sn94ZMnDT-uk"
      },
      "source": [
        "### Model Design and Training\n",
        "\n",
        "**Objective:**\n",
        "\n",
        "Implement and train a fully connected neural network to classify Yelp reviews based on their sentiment.\n",
        "\n",
        "**Model Architecture:**\n",
        "\n",
        "- The network should have two hidden layers.\n",
        "- The first layer should contain 16 neurons, and the second layer should contain 8 neurons. Use ReLU as the activation function for both layers.\n",
        "- The output layer should use the sigmoid activation function to output the probability of a review being positive.\n",
        "\n",
        "**Tasks:**\n",
        "\n",
        "1.  Define the neural network architecture using PyTorch. Use `Sequential` model type and add layers with `Dense`.\n",
        "2.  Compile the model with the following configurations:\n",
        "    - Optimizer: RMSprop\n",
        "    - Loss function: Sparse Categorical Crossentropy\n",
        "    - Metric: Accuracy\n",
        "3.  Train the model on the training set. Use a validation split of 15% to monitor the model's performance during training. Train for 20 epochs with a batch size of 512.\n"
      ]
    },
    {
      "cell_type": "code",
      "execution_count": 89,
      "metadata": {
        "colab": {
          "base_uri": "https://localhost:8080/"
        },
        "id": "axZDvBpzT-uk",
        "outputId": "f8fa79f0-5612-47c9-ccb9-bf02e81d1bea"
      },
      "outputs": [
        {
          "output_type": "stream",
          "name": "stdout",
          "text": [
            "Epoch 1/20, Loss: 0.2356, Validation Loss: 0.4698, Validation Accuracy: 0.9733\n",
            "Epoch 2/20, Loss: 0.2185, Validation Loss: 0.2410, Validation Accuracy: 0.9733\n",
            "Epoch 3/20, Loss: 0.1426, Validation Loss: 0.2474, Validation Accuracy: 0.9733\n",
            "Epoch 4/20, Loss: 0.0868, Validation Loss: 0.2639, Validation Accuracy: 0.9733\n",
            "Epoch 5/20, Loss: 0.0809, Validation Loss: 0.2551, Validation Accuracy: 0.9733\n",
            "Epoch 6/20, Loss: 0.0449, Validation Loss: 0.2873, Validation Accuracy: 0.9733\n",
            "Epoch 7/20, Loss: 0.0442, Validation Loss: 0.3099, Validation Accuracy: 0.9733\n",
            "Epoch 8/20, Loss: 0.0477, Validation Loss: 0.3433, Validation Accuracy: 0.9733\n",
            "Epoch 9/20, Loss: 0.0405, Validation Loss: 0.3681, Validation Accuracy: 0.9733\n",
            "Epoch 10/20, Loss: 0.0356, Validation Loss: 0.3868, Validation Accuracy: 0.9733\n",
            "Epoch 11/20, Loss: 0.0294, Validation Loss: 0.4166, Validation Accuracy: 0.9733\n",
            "Epoch 12/20, Loss: 0.0227, Validation Loss: 0.4051, Validation Accuracy: 0.9733\n",
            "Epoch 13/20, Loss: 0.0170, Validation Loss: 0.4357, Validation Accuracy: 0.9733\n",
            "Epoch 14/20, Loss: 0.0144, Validation Loss: 0.4422, Validation Accuracy: 0.9733\n",
            "Epoch 15/20, Loss: 0.0064, Validation Loss: 0.4770, Validation Accuracy: 0.9733\n",
            "Epoch 16/20, Loss: 0.0053, Validation Loss: 0.4930, Validation Accuracy: 0.9733\n",
            "Epoch 17/20, Loss: 0.0042, Validation Loss: 0.5091, Validation Accuracy: 0.9733\n",
            "Epoch 18/20, Loss: 0.0042, Validation Loss: 0.5257, Validation Accuracy: 0.9733\n",
            "Epoch 19/20, Loss: 0.0051, Validation Loss: 0.5361, Validation Accuracy: 0.9733\n",
            "Epoch 20/20, Loss: 0.0026, Validation Loss: 0.5587, Validation Accuracy: 0.9733\n"
          ]
        }
      ],
      "source": [
        "X_train_tensor = torch.tensor(X_train.values, dtype=torch.float32)\n",
        "y_train_tensor = torch.tensor((y_train.values > 0.5).astype(float), dtype=torch.float32)\n",
        "X_val_tensor = torch.tensor(X_val.values, dtype=torch.float32)\n",
        "y_val_tensor = torch.tensor((y_val.values > 0.5).astype(float), dtype=torch.float32)\n",
        "\n",
        "# Step 2: Define the neural network architecture\n",
        "model = nn.Sequential(\n",
        "    nn.Linear(in_features=X_train.shape[1], out_features=16),\n",
        "    nn.ReLU(),\n",
        "    nn.Linear(in_features=16, out_features=8),\n",
        "    nn.ReLU(),\n",
        "    nn.Linear(in_features=8, out_features=1),\n",
        "    nn.Sigmoid()\n",
        ")\n",
        "\n",
        "# Step 3: Compile the model\n",
        "optimizer = optim.RMSprop(model.parameters())\n",
        "criterion = nn.BCELoss()  # Binary Cross Entropy Loss for binary classification\n",
        "metrics = ['accuracy']    # Metric for evaluation\n",
        "\n",
        "# Step 4: Train the model\n",
        "batch_size = 512\n",
        "epochs = 20\n",
        "\n",
        "for epoch in range(epochs):\n",
        "    # Shuffle the training data\n",
        "    permutation = torch.randperm(X_train_tensor.size()[0])\n",
        "    for i in range(0, X_train_tensor.size()[0], batch_size):\n",
        "        indices = permutation[i:i + batch_size]\n",
        "        batch_x, batch_y = X_train_tensor[indices], y_train_tensor[indices]\n",
        "\n",
        "        # Zero the gradients\n",
        "        optimizer.zero_grad()\n",
        "\n",
        "        # Forward pass\n",
        "        outputs = model(batch_x)\n",
        "        loss = criterion(outputs.squeeze(), batch_y)\n",
        "\n",
        "        # Backward pass\n",
        "        loss.backward()\n",
        "\n",
        "        # Update weights\n",
        "        optimizer.step()\n",
        "\n",
        "    # Validation\n",
        "    with torch.no_grad():\n",
        "        val_outputs = model(X_val_tensor)\n",
        "        val_loss = criterion(val_outputs.squeeze(), y_val_tensor)\n",
        "        val_acc = ((val_outputs > 0.5).float() == y_val_tensor).float().mean()\n",
        "\n",
        "    print(f'Epoch {epoch+1}/{epochs}, Loss: {loss.item():.4f}, Validation Loss: {val_loss.item():.4f}, Validation Accuracy: {val_acc.item():.4f}')"
      ]
    },
    {
      "cell_type": "markdown",
      "metadata": {
        "id": "51QtpEqPT-uk"
      },
      "source": [
        "### Model Evaluation\n",
        "\n",
        "**Objective:**\n",
        "\n",
        "Evaluate the performance of your trained model on the validation set and make predictions on new data samples.\n",
        "\n",
        "**Tasks:**\n",
        "\n",
        "1.  Assess the model's performance on the validation set. Report the accuracy and loss.\n",
        "2.  Predict the sentiment of the first five reviews in the validation set. Display the predicted probabilities and the actual labels.\n",
        "\n",
        "We will give extra credit for the best performing models on the validation set.\n"
      ]
    },
    {
      "cell_type": "code",
      "source": [
        "with torch.no_grad():\n",
        "    val_outputs = model(X_val_tensor)\n",
        "    val_loss = criterion(val_outputs.squeeze(), y_val_tensor)\n",
        "    val_acc = ((val_outputs > 0.5).float() == y_val_tensor).float().mean()\n",
        "\n",
        "# Report the accuracy and loss\n",
        "print(f\"Validation Accuracy: {val_acc.item():.4f}\")\n",
        "print(f\"Validation Loss: {val_loss.item():.4f}\")"
      ],
      "metadata": {
        "colab": {
          "base_uri": "https://localhost:8080/"
        },
        "id": "Eof9gWAEqwnf",
        "outputId": "1f5895a7-0adf-4807-d6b6-0486d191e6d7"
      },
      "execution_count": 91,
      "outputs": [
        {
          "output_type": "stream",
          "name": "stdout",
          "text": [
            "Validation Accuracy: 0.9733\n",
            "Validation Loss: 0.5587\n"
          ]
        }
      ]
    },
    {
      "cell_type": "markdown",
      "source": [],
      "metadata": {
        "id": "sBsWNTdPqwYq"
      }
    },
    {
      "cell_type": "code",
      "execution_count": null,
      "metadata": {
        "id": "I2WBB4kKT-uk"
      },
      "outputs": [],
      "source": [
        "\"\"\"\n",
        "Review 1:\n",
        "Predicted Probability: 0.9716\n",
        "Predicted Label: 1\n",
        "Actual Label: 1\n",
        "\n",
        "Review 2:\n",
        "Predicted Probability: 0.0000\n",
        "Predicted Label: 0\n",
        "Actual Label: 0\n",
        "\n",
        "Review 3:\n",
        "Predicted Probability: 0.0000\n",
        "Predicted Label: 0\n",
        "Actual Label: 0\n",
        "\n",
        "Review 4:\n",
        "Predicted Probability: 1.0000\n",
        "Predicted Label: 1\n",
        "Actual Label: 1\n",
        "\n",
        "Review 5:\n",
        "Predicted Probability: 0.0000\n",
        "Predicted Label: 0\n",
        "Actual Label: 0\n",
        "\n",
        "These predictions indicate that the model performs well on the validation set, correctly classifying the sentiment of the majority of reviews.\n",
        "\"\"\""
      ]
    }
  ],
  "metadata": {
    "kernelspec": {
      "display_name": "Python 3",
      "name": "python3"
    },
    "language_info": {
      "name": "python",
      "version": "3.9.6"
    },
    "orig_nbformat": 4,
    "colab": {
      "provenance": [],
      "gpuType": "T4"
    },
    "accelerator": "GPU"
  },
  "nbformat": 4,
  "nbformat_minor": 0
}